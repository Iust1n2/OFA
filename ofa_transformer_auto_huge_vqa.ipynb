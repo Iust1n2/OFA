{
 "cells": [
  {
   "cell_type": "code",
   "execution_count": 74,
   "metadata": {},
   "outputs": [],
   "source": [
    "from transformers import AutoModelForSequenceClassification, OFATokenizer, utils\n",
    "from PIL import Image\n",
    "from torchvision import transforms\n",
    "from transformers import OFATokenizer, OFAModel\n",
    "from transformers.models.ofa.generate import sequence_generator\n",
    "import torch"
   ]
  },
  {
   "cell_type": "code",
   "execution_count": 93,
   "metadata": {},
   "outputs": [],
   "source": [
    "import pandas as pd\n",
    "from PIL import Image\n",
    "import io\n",
    "import base64\n",
    "\n",
    "# Load the data\n",
    "data = pd.read_csv('dataset/vision_language_examples.tsv', delimiter='\\t', header=None)\n",
    "\n",
    "# Select the first row's image data (assuming it's in the second column)\n",
    "image_data = data.iloc[7, 1]\n",
    "\n",
    "# Decode the base64 string\n",
    "image_bytes = base64.b64decode(image_data)\n",
    "\n",
    "# Convert to a bytes buffer\n",
    "image_buffer = io.BytesIO(image_bytes)\n",
    "\n",
    "# Open the image\n",
    "image = Image.open(image_buffer)\n",
    "\n",
    "# Save the image\n",
    "image.save('examples/vision_language_examples/teacher.jpg', 'JPEG')"
   ]
  },
  {
   "cell_type": "code",
   "execution_count": 76,
   "metadata": {},
   "outputs": [
    {
     "data": {
      "text/plain": [
       "'ewa makai teacher walking around classroom while giving a lecture to her students.'"
      ]
     },
     "execution_count": 76,
     "metadata": {},
     "output_type": "execute_result"
    }
   ],
   "source": [
    "# also take the caption\n",
    "caption = data.iloc[7, 2]\n",
    "caption"
   ]
  },
  {
   "cell_type": "code",
   "execution_count": 77,
   "metadata": {},
   "outputs": [
    {
     "name": "stdout",
     "output_type": "stream",
     "text": [
      "OFA-Sys/ofa-huge-vqa\n",
      "<super: <class 'OFATokenizer'>, <OFATokenizer object>>\n"
     ]
    }
   ],
   "source": [
    "from transformers import AutoModel\n",
    "\n",
    "model = AutoModel.from_pretrained(\"OFA-Sys/ofa-huge-vqa\", output_attentions=True, output_hidden_states=True)\n",
    "tokenizer = OFATokenizer.from_pretrained(\"OFA-Sys/ofa-huge-vqa\")"
   ]
  },
  {
   "cell_type": "code",
   "execution_count": 78,
   "metadata": {},
   "outputs": [],
   "source": [
    "mean, std = [0.5, 0.5, 0.5], [0.5, 0.5, 0.5]\n",
    "resolution = 480\n",
    "patch_resize_transform = transforms.Compose([\n",
    "        lambda image: image.convert(\"RGB\"),\n",
    "        transforms.Resize((resolution, resolution), interpolation=Image.BICUBIC),\n",
    "        transforms.ToTensor(), \n",
    "        transforms.Normalize(mean=mean, std=std)\n",
    "    ])"
   ]
  },
  {
   "cell_type": "code",
   "execution_count": 163,
   "metadata": {},
   "outputs": [],
   "source": [
    "# txt = \"what is the woman in the centre doing?\"\n",
    "# txt = \" what is this?\"\n",
    "# txt = \" what city are the giants from?\"\n",
    "# txt = \"what number is the small hand on?\"\n",
    "# txt = \"what sort of vehicle uses this item?\"\n",
    "# txt = \"why is [person1] pointing a gun at [person2]?\"\n",
    "txt = 'why is the woman pointing a gun at the man?'\n",
    "inputs = tokenizer([txt], return_tensors=\"pt\").input_ids\n",
    "image = Image.open('examples/vcr_3880.jpg')\n",
    "patch_img = patch_resize_transform(image).unsqueeze(0)"
   ]
  },
  {
   "cell_type": "code",
   "execution_count": 164,
   "metadata": {},
   "outputs": [],
   "source": [
    "generator = sequence_generator.SequenceGenerator(\n",
    "                    tokenizer=tokenizer,\n",
    "                    beam_size=5,\n",
    "                    max_len_b=16, \n",
    "                    min_len=0,\n",
    "                    no_repeat_ngram_size=3,\n",
    "                    temperature=0.5,\n",
    "                )"
   ]
  },
  {
   "cell_type": "code",
   "execution_count": 165,
   "metadata": {},
   "outputs": [
    {
     "name": "stdout",
     "output_type": "stream",
     "text": [
      "Type of input_ids: <class 'torch.Tensor'>\n",
      "Shape of input_ids: torch.Size([1, 13])\n"
     ]
    }
   ],
   "source": [
    "data = {}\n",
    "data[\"net_input\"] = {\"input_ids\": inputs, 'patch_images': patch_img, 'patch_masks':torch.tensor([True])}\n",
    "gen_output = generator.generate([model], data)\n",
    "gen = [gen_output[i][0][\"tokens\"] for i in range(len(gen_output))]"
   ]
  },
  {
   "cell_type": "code",
   "execution_count": 166,
   "metadata": {},
   "outputs": [
    {
     "name": "stdout",
     "output_type": "stream",
     "text": [
      "[' no']\n"
     ]
    }
   ],
   "source": [
    "decoded_output = tokenizer.batch_decode(gen, skip_special_tokens=True)\n",
    "print(decoded_output)"
   ]
  },
  {
   "cell_type": "code",
   "execution_count": 167,
   "metadata": {},
   "outputs": [
    {
     "name": "stdout",
     "output_type": "stream",
     "text": [
      "Type of input_ids: <class 'torch.Tensor'>\n",
      "Shape of input_ids: torch.Size([1, 13])\n",
      "[\" not sure why this isn't obvious to anyone else but it's not! she doesn't\"]\n"
     ]
    }
   ],
   "source": [
    "gen = model.generate(inputs, patch_images=patch_img, num_beams=3, no_repeat_ngram_size=3, temperature=0.5) \n",
    "\n",
    "print(tokenizer.batch_decode(gen, skip_special_tokens=True))"
   ]
  }
 ],
 "metadata": {
  "kernelspec": {
   "display_name": "mytorch",
   "language": "python",
   "name": "python3"
  },
  "language_info": {
   "codemirror_mode": {
    "name": "ipython",
    "version": 3
   },
   "file_extension": ".py",
   "mimetype": "text/x-python",
   "name": "python",
   "nbconvert_exporter": "python",
   "pygments_lexer": "ipython3",
   "version": "3.10.14"
  }
 },
 "nbformat": 4,
 "nbformat_minor": 2
}
